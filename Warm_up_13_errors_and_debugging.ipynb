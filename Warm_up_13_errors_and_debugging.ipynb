{
 "cells": [
  {
   "cell_type": "markdown",
   "metadata": {},
   "source": [
    "# Dynamic Modelling Course - TEP4290: Warm-up 13\n",
    "The point of this exercise is for you to get familiar with the main errors that you will encounter while programming in Python and how to solve them. \n",
    "\n",
    "Bascally, there exists different types of errors which will hint you to where to look for and debug (fix) it. By learning to do this, you should learn to become a more independent programmer and translate similar issues that other people have had into your own context. \n",
    "\n",
    "We will learn about SyntaxError, KeyError, ValueError amongst other. \n",
    "\n",
    "Useful resources include: \n",
    "\n",
    "- https://aguaclara.github.io/aguaclara_tutorial/python/python-common-errors.html \n",
    "- https://edcarp.github.io/2018-11-06-edinburgh-igmm-python/07-errors/index.html \n",
    "- https://learningactors.com/python-keyerror-exceptions-and-how-to-handle-them/\n",
    "\n",
    "For catching exceptions: \n",
    "- https://www.tutorialsteacher.com/python/exception-handling-in-python \n",
    "\n",
    "About debugging with a standard python package:\n",
    "- https://www.youtube.com/watch?v=ChuU3NlYRLQ\n",
    "\n",
    "The exercise is pass/fail.\n",
    "\n",
    "Good luck!"
   ]
  },
  {
   "cell_type": "markdown",
   "metadata": {},
   "source": [
    "# Errors and Exceptions"
   ]
  },
  {
   "cell_type": "markdown",
   "metadata": {},
   "source": [
    "No matter your skill as a programmer, you will eventually make a coding mistake.\n",
    "Such mistakes come in three basic flavors:\n",
    "\n",
    "- *Syntax errors:* Errors where the code is not valid Python (generally easy to fix)\n",
    "- *Runtime errors:* Errors where syntactically valid code fails to execute, perhaps due to invalid user input (sometimes easy to fix)\n",
    "- *Semantic errors:* Errors in logic: code executes without a problem, but the result is not what you expect (often very difficult to track-down and fix)\n",
    "\n",
    "Here we're going to focus on how to deal cleanly with *runtime errors*.\n",
    "As we'll see, Python handles runtime errors via its *exception handling* framework."
   ]
  },
  {
   "cell_type": "markdown",
   "metadata": {},
   "source": [
    "# Debugging\n",
    "While there is a whole world of debugging culture out there - often with add-ons or dedicated programs for debugging, but you don't have to go so far to effectively debug. We already spoke about syntax and runtime errors, but you will likely spend a lot of time on figuring out semantic errors or runtime errors connected to semantic errors.\n",
    "\n",
    "**The easiest way of debugging is using the __print__ statement!**\n",
    "\n",
    "While you may use any workflow that pleases you, just inserting print statements in your code to check what your variables do is often more than enough to understand the mistage you get."
   ]
  },
  {
   "cell_type": "markdown",
   "metadata": {},
   "source": [
    "## Imports\n",
    "first we import what we need to for this assignment:"
   ]
  },
  {
   "cell_type": "code",
   "execution_count": 4,
   "metadata": {},
   "outputs": [],
   "source": [
    "import numpy as np\n",
    "import pandas as pd"
   ]
  },
  {
   "cell_type": "markdown",
   "metadata": {},
   "source": [
    "# Tasks"
   ]
  },
  {
   "cell_type": "markdown",
   "metadata": {},
   "source": [
    "## By looking at the errors that are returned, fix the following Runtime Errors\n",
    "\n",
    "If you've done any coding in Python, you've likely come across runtime errors.\n",
    "They can happen in a lot of ways.\n",
    "\n",
    "For example, if you try to reference an undefined variable:"
   ]
  },
  {
   "cell_type": "code",
   "execution_count": 5,
   "metadata": {},
   "outputs": [
    {
     "ename": "NameError",
     "evalue": "name 'Q' is not defined",
     "output_type": "error",
     "traceback": [
      "\u001b[0;31m---------------------------------------------------------------------------\u001b[0m",
      "\u001b[0;31mNameError\u001b[0m                                 Traceback (most recent call last)",
      "Cell \u001b[0;32mIn[5], line 1\u001b[0m\n\u001b[0;32m----> 1\u001b[0m \u001b[38;5;28mprint\u001b[39m(Q)\n",
      "\u001b[0;31mNameError\u001b[0m: name 'Q' is not defined"
     ]
    }
   ],
   "source": [
    "print(Q)"
   ]
  },
  {
   "cell_type": "markdown",
   "metadata": {},
   "source": [
    "Or if you try an operation that's not defined:"
   ]
  },
  {
   "cell_type": "code",
   "execution_count": null,
   "metadata": {},
   "outputs": [
    {
     "ename": "TypeError",
     "evalue": "unsupported operand type(s) for +: 'int' and 'str'",
     "output_type": "error",
     "traceback": [
      "\u001b[0;31m---------------------------------------------------------------------------\u001b[0m",
      "\u001b[0;31mTypeError\u001b[0m                                 Traceback (most recent call last)",
      "\u001b[0;32m<ipython-input-3-a51a3635a212>\u001b[0m in \u001b[0;36m<module>\u001b[0;34m\u001b[0m\n\u001b[0;32m----> 1\u001b[0;31m \u001b[0;36m1\u001b[0m \u001b[0;34m+\u001b[0m \u001b[0;34m'abc'\u001b[0m\u001b[0;34m\u001b[0m\u001b[0;34m\u001b[0m\u001b[0m\n\u001b[0m",
      "\u001b[0;31mTypeError\u001b[0m: unsupported operand type(s) for +: 'int' and 'str'"
     ]
    }
   ],
   "source": [
    "1 + 'abc'"
   ]
  },
  {
   "cell_type": "markdown",
   "metadata": {},
   "source": [
    "Or you might be trying to compute a mathematically ill-defined result:"
   ]
  },
  {
   "cell_type": "code",
   "execution_count": 3,
   "metadata": {},
   "outputs": [
    {
     "ename": "ZeroDivisionError",
     "evalue": "division by zero",
     "output_type": "error",
     "traceback": [
      "\u001b[1;31m---------------------------------------------------------------------------\u001b[0m",
      "\u001b[1;31mZeroDivisionError\u001b[0m                         Traceback (most recent call last)",
      "\u001b[1;32m<ipython-input-3-8b4ac6d3a3e1>\u001b[0m in \u001b[0;36m<module>\u001b[1;34m\u001b[0m\n\u001b[1;32m----> 1\u001b[1;33m \u001b[1;36m2\u001b[0m \u001b[1;33m/\u001b[0m \u001b[1;36m0\u001b[0m\u001b[1;33m\u001b[0m\u001b[1;33m\u001b[0m\u001b[0m\n\u001b[0m",
      "\u001b[1;31mZeroDivisionError\u001b[0m: division by zero"
     ]
    }
   ],
   "source": [
    "2 / 0"
   ]
  },
  {
   "cell_type": "markdown",
   "metadata": {},
   "source": [
    "Or maybe you're trying to access a sequence element that doesn't exist:"
   ]
  },
  {
   "cell_type": "code",
   "execution_count": 4,
   "metadata": {},
   "outputs": [
    {
     "ename": "IndexError",
     "evalue": "list index out of range",
     "output_type": "error",
     "traceback": [
      "\u001b[1;31m---------------------------------------------------------------------------\u001b[0m",
      "\u001b[1;31mIndexError\u001b[0m                                Traceback (most recent call last)",
      "\u001b[1;32m<ipython-input-4-354067ebdc84>\u001b[0m in \u001b[0;36m<module>\u001b[1;34m\u001b[0m\n\u001b[0;32m      1\u001b[0m \u001b[0mL\u001b[0m \u001b[1;33m=\u001b[0m \u001b[1;33m[\u001b[0m\u001b[1;36m1\u001b[0m\u001b[1;33m,\u001b[0m \u001b[1;36m2\u001b[0m\u001b[1;33m,\u001b[0m \u001b[1;36m3\u001b[0m\u001b[1;33m]\u001b[0m\u001b[1;33m\u001b[0m\u001b[1;33m\u001b[0m\u001b[0m\n\u001b[1;32m----> 2\u001b[1;33m \u001b[0mL\u001b[0m\u001b[1;33m[\u001b[0m\u001b[1;36m1000\u001b[0m\u001b[1;33m]\u001b[0m\u001b[1;33m\u001b[0m\u001b[1;33m\u001b[0m\u001b[0m\n\u001b[0m",
      "\u001b[1;31mIndexError\u001b[0m: list index out of range"
     ]
    }
   ],
   "source": [
    "L = [1, 2, 3]\n",
    "L[1000]"
   ]
  },
  {
   "cell_type": "markdown",
   "metadata": {},
   "source": [
    "## Let's fix some Syntax Errors too\n",
    "\n",
    "PS: Syntax error, much like in a normal sentence, often means you typed something wrong. \n",
    "\n",
    "Useful: https://www.raiseupwa.com/miscellaneous/what-is-syntax-error-in-python-example/ "
   ]
  },
  {
   "cell_type": "code",
   "execution_count": 17,
   "metadata": {},
   "outputs": [
    {
     "name": "stdout",
     "output_type": "stream",
     "text": [
      "x is smaller than 5\n",
      "x is smaller than 5\n",
      "x is smaller than 5\n",
      "x is smaller than 5\n",
      "x is smaller than 5\n"
     ]
    }
   ],
   "source": [
    "x = 0\n",
    "\n",
    "#whille x < 5:\n",
    "    #print('x is smaller than 5')\n",
    "    #x +=1\n",
    "\n",
    "#Solution:\n",
    "\n",
    "while x < 5:\n",
    "    print('x is smaller than 5')\n",
    "    x +=1"
   ]
  },
  {
   "cell_type": "code",
   "execution_count": 23,
   "metadata": {},
   "outputs": [],
   "source": [
    "#for x in range(5)\n",
    "#    y = x + z\n",
    "\n",
    "#Solution:\n",
    "for x in range(5):\n",
    "    y = x + 5"
   ]
  },
  {
   "cell_type": "markdown",
   "metadata": {},
   "source": [
    "## Attribute errors are also common when starting to program. Can you fix these?"
   ]
  },
  {
   "cell_type": "code",
   "execution_count": 4,
   "metadata": {},
   "outputs": [],
   "source": [
    "#my_tuple = (1, 2, 3)\n",
    "#my_tuple.reverse()\n",
    "\n",
    "#Solution:\n",
    "my_tuple = list(my_tuple)\n",
    "my_tuple.reverse()"
   ]
  },
  {
   "cell_type": "code",
   "execution_count": 7,
   "metadata": {},
   "outputs": [],
   "source": [
    "#data = pd.dataframe({'Data': [1,2,3,4]})\n",
    "\n",
    "#Solution:\n",
    "data = pd.DataFrame({'Data': [1,2,3,4]})"
   ]
  },
  {
   "cell_type": "code",
   "execution_count": 8,
   "metadata": {},
   "outputs": [
    {
     "data": {
      "text/html": [
       "<div>\n",
       "<style scoped>\n",
       "    .dataframe tbody tr th:only-of-type {\n",
       "        vertical-align: middle;\n",
       "    }\n",
       "\n",
       "    .dataframe tbody tr th {\n",
       "        vertical-align: top;\n",
       "    }\n",
       "\n",
       "    .dataframe thead th {\n",
       "        text-align: right;\n",
       "    }\n",
       "</style>\n",
       "<table border=\"1\" class=\"dataframe\">\n",
       "  <thead>\n",
       "    <tr style=\"text-align: right;\">\n",
       "      <th></th>\n",
       "      <th>Data</th>\n",
       "    </tr>\n",
       "  </thead>\n",
       "  <tbody>\n",
       "    <tr>\n",
       "      <th>0</th>\n",
       "      <td>1</td>\n",
       "    </tr>\n",
       "    <tr>\n",
       "      <th>1</th>\n",
       "      <td>2</td>\n",
       "    </tr>\n",
       "    <tr>\n",
       "      <th>2</th>\n",
       "      <td>3</td>\n",
       "    </tr>\n",
       "    <tr>\n",
       "      <th>3</th>\n",
       "      <td>4</td>\n",
       "    </tr>\n",
       "  </tbody>\n",
       "</table>\n",
       "</div>"
      ],
      "text/plain": [
       "   Data\n",
       "0     1\n",
       "1     2\n",
       "2     3\n",
       "3     4"
      ]
     },
     "execution_count": 8,
     "metadata": {},
     "output_type": "execute_result"
    }
   ],
   "source": [
    "# A little refresher for syntax errors\n",
    "\n",
    "#Solution:\n",
    "data.head()"
   ]
  },
  {
   "cell_type": "markdown",
   "metadata": {},
   "source": [
    "## Type errors:"
   ]
  },
  {
   "cell_type": "code",
   "execution_count": 12,
   "metadata": {},
   "outputs": [
    {
     "name": "stdout",
     "output_type": "stream",
     "text": [
      "3.5\n"
     ]
    }
   ],
   "source": [
    "#def sum(x, y):\n",
    "#      z = x + y\n",
    "\n",
    "#sum(3, 4)/2\n",
    "\n",
    "#Solution:\n",
    "def sum(x, y):\n",
    "      z = x + y\n",
    "      return z\n",
    "\n",
    "result = sum(3, 4) / 2\n",
    "print(result)"
   ]
  },
  {
   "cell_type": "code",
   "execution_count": 14,
   "metadata": {},
   "outputs": [
    {
     "data": {
      "text/plain": [
       "(1, 2, 3, 4, 5, 6)"
      ]
     },
     "execution_count": 14,
     "metadata": {},
     "output_type": "execute_result"
    }
   ],
   "source": [
    "#x = (1,2,3)\n",
    "#y = [4,5,6]\n",
    "\n",
    "#x + y\n",
    "\n",
    "#Solution:\n",
    "x = (1,2,3)\n",
    "y = (4,5,6)\n",
    "\n",
    "x + y"
   ]
  },
  {
   "cell_type": "markdown",
   "metadata": {},
   "source": [
    "## Finally, Key Errors"
   ]
  },
  {
   "cell_type": "code",
   "execution_count": 31,
   "metadata": {},
   "outputs": [
    {
     "data": {
      "text/plain": [
       "array([120])"
      ]
     },
     "execution_count": 31,
     "metadata": {},
     "output_type": "execute_result"
    }
   ],
   "source": [
    "data = pd.DataFrame({'Year': [2000, 2001, 2002], 'Inflow': [100, 120, 150]})\n",
    "\n",
    "# Find the value for year 2001\n",
    "#data.loc[data['year']==2001, 'Inflow'].value\n",
    "\n",
    "#Solution:\n",
    "# Find the value for year 2001\n",
    "data.loc[data['Year']==2001, 'Inflow'].values"
   ]
  },
  {
   "cell_type": "markdown",
   "metadata": {},
   "source": [
    "## Finding errors with print statements\n",
    "The next cell contains a simple construct of two functions and will result in an error if you use 102 as the input. \n",
    "\n",
    "Your task is to find what the error is, and where it occurs - what are the variables related to the error, what is their state? For this purpose, use print() within the function to get the exact values of everything that might be relevant!\n",
    "\n",
    "**You do not need to fix the error!**\n",
    "\n",
    "you can try to change the input for the last function to a different seed - what is the changed state now?"
   ]
  },
  {
   "cell_type": "code",
   "execution_count": 29,
   "metadata": {},
   "outputs": [
    {
     "name": "stdout",
     "output_type": "stream",
     "text": [
      "4\n",
      "64\n",
      "-30\n",
      "-2\n",
      "32\n",
      "61\n",
      "-40\n",
      "-58\n",
      "-15\n",
      "9\n",
      "-2\n",
      "-4\n",
      "-66\n",
      "18\n",
      "29\n",
      "-17\n",
      "17\n",
      "19\n",
      "-44\n",
      "-27\n"
     ]
    },
    {
     "data": {
      "text/plain": [
       "[22.75,\n",
       " 1.25,\n",
       " -0.43333333333333335,\n",
       " -35.5,\n",
       " 1.0625,\n",
       " 1.0,\n",
       " -0.7,\n",
       " -1.6896551724137931,\n",
       " -1.8,\n",
       " 9.0,\n",
       " -29.5,\n",
       " -18.0,\n",
       " -1.4393939393939394,\n",
       " 0.5,\n",
       " 1.5517241379310345,\n",
       " -5.176470588235294,\n",
       " 4.0588235294117645,\n",
       " 1.6842105263157894,\n",
       " -0.8181818181818182,\n",
       " -2.7037037037037037]"
      ]
     },
     "execution_count": 29,
     "metadata": {},
     "output_type": "execute_result"
    }
   ],
   "source": [
    "def do_random_shit(seed:int):\n",
    "    '''Just does something weird and unesseary.'''\n",
    "    #set seed to make sure we always get the same\n",
    "    np.random.seed(seed)\n",
    "\n",
    "    #create two random arrays of length 20 and scale them up \n",
    "    array1 = np.random.rand(20)*100\n",
    "    array2 = np.random.rand(20)*100\n",
    "    \n",
    "\n",
    "    results = np.subtract(array1, array2)\n",
    "\n",
    "    new_results = random_scaling(results)\n",
    "    return new_results\n",
    "    \n",
    "\n",
    "def random_scaling(array):\n",
    "    '''Simple scaling of a random array with the input array .'''\n",
    "    array1 = np.random.rand(np.size(array))*100 #random array that will be scaled\n",
    "    scaled_results = [] #emtpy result list \n",
    "    for number, base in zip(array, array1): #iterating through both arrays simultaneously\n",
    "        rounded_number = int(number) #rounding the scaling factor to an int\n",
    "        rounded_base = int(base)\n",
    "        print(rounded_number)       \n",
    "        scaled_number = rounded_base/rounded_number\n",
    "        scaled_results.append(scaled_number)\n",
    "    \n",
    "    return scaled_results\n",
    "\n",
    "\n",
    "do_random_shit(102) #105\n",
    "\n",
    "#'''\n",
    "#- What the error is?:\n",
    "# Ans: ZeroDivisionError: division by zero\n",
    "#- Where it occurs?:\n",
    "# Ans: Line 25     scaled_number = rounded_base/rounded_number \n",
    "#   (rounded_number is a zero value in the fourth iteration)\n",
    "#- What are the variables related to the error?:\n",
    "# Ans: rounded_number\n",
    "#- What is their state?\n",
    "# Ans:-45, 16, 69, 0 (values of rounded_number in)\n",
    "#'''\n",
    "#\n",
    "##random_scaling([10, 8, 5])\n",
    "#'''\n",
    "# Changing from seed 105 to 102:\n",
    "#- What is the changed state now?\n",
    "# Ans: Now Line 25 produces the following output:\n",
    "#     4\n",
    "#    64\n",
    "#   -30\n",
    "#    -2\n",
    "#    32\n",
    "#    61\n",
    "#   -40\n",
    "#   -58\n",
    "#   -15\n",
    "#     9\n",
    "#    -2\n",
    "#    -4\n",
    "#   -66\n",
    "#    18\n",
    "#    29\n",
    "#   -17\n",
    "#    17\n",
    "#    19\n",
    "#   -44\n",
    "#   -27\n",
    "## do_random_shit fuction run properly now:\n",
    "# [22.75,\n",
    "# 1.25,\n",
    "# -0.43333333333333335,\n",
    "# -35.5,\n",
    "# 1.0625,\n",
    "# 1.0,\n",
    "# -0.7,\n",
    "# -1.6896551724137931,\n",
    "# -1.8,\n",
    "# 9.0,\n",
    "# -29.5,\n",
    "# -18.0,\n",
    "# -1.4393939393939394,\n",
    "# 0.5,\n",
    "# 1.5517241379310345,\n",
    "# -5.176470588235294,\n",
    "# 4.0588235294117645,\n",
    "# 1.6842105263157894,\n",
    "# -0.8181818181818182,\n",
    "# -2.7037037037037037]\n",
    "#'''"
   ]
  },
  {
   "cell_type": "code",
   "execution_count": null,
   "metadata": {},
   "outputs": [],
   "source": []
  },
  {
   "cell_type": "markdown",
   "metadata": {},
   "source": [
    "#### answering the last question\n",
    "\n",
    "the state of the different variables and what caused the error:\n",
    "\n",
    "error:\n",
    "\n",
    "\n",
    "variables:\n"
   ]
  },
  {
   "cell_type": "code",
   "execution_count": null,
   "metadata": {},
   "outputs": [],
   "source": []
  }
 ],
 "metadata": {
  "kernelspec": {
   "display_name": "MFA2-Warm_up",
   "language": "python",
   "name": "python3"
  },
  "language_info": {
   "codemirror_mode": {
    "name": "ipython",
    "version": 3
   },
   "file_extension": ".py",
   "mimetype": "text/x-python",
   "name": "python",
   "nbconvert_exporter": "python",
   "pygments_lexer": "ipython3",
   "version": "3.12.8"
  },
  "orig_nbformat": 4
 },
 "nbformat": 4,
 "nbformat_minor": 2
}
