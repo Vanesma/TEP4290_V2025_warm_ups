{
 "cells": [
  {
   "cell_type": "markdown",
   "metadata": {},
   "source": [
    "# Dynamic Modelling Course - TEP4290: Warm-up 2\n",
    "Warm-up two is only there to encourage you to think about programming in general. You also have the option to experiment with copilot here.\n",
    "- PY4E: https://www.py4e.com/lessons/intro\n",
    "- Whirwind tour of python: https://github.com/jakevdp/WhirlwindTourOfPython/blob/master/00-Introduction.ipynb\n",
    "- VSC use of copilot in jupyter notebooks https://www.youtube.com/watch?v=QS_bh-3qKdw\n",
    "\n",
    "Get inspired!"
   ]
  },
  {
   "cell_type": "markdown",
   "metadata": {},
   "source": [
    "### sandbox\n",
    "you can play with some code here"
   ]
  },
  {
   "cell_type": "code",
   "execution_count": 1,
   "metadata": {},
   "outputs": [],
   "source": [
    "# function to check if a number is divisible by 11\n",
    "def divisible_by_11(n):\n",
    "    if n % 11 == 0:\n",
    "        return True\n",
    "    else:\n",
    "        return False\n"
   ]
  },
  {
   "cell_type": "code",
   "execution_count": 2,
   "metadata": {},
   "outputs": [
    {
     "name": "stdout",
     "output_type": "stream",
     "text": [
      "[1, 2, 3, 4, 5]\n"
     ]
    }
   ],
   "source": [
    "my_list = [1, 2, 3, 4, 5]\n",
    "print(my_list)"
   ]
  },
  {
   "cell_type": "code",
   "execution_count": 3,
   "metadata": {},
   "outputs": [
    {
     "name": "stdout",
     "output_type": "stream",
     "text": [
      "6\n"
     ]
    }
   ],
   "source": [
    "my_list = [1,2,3,4,5,12]\n",
    "print(len(my_list))"
   ]
  },
  {
   "cell_type": "code",
   "execution_count": 4,
   "metadata": {},
   "outputs": [
    {
     "ename": "SyntaxError",
     "evalue": "expected ':' (2674380798.py, line 10)",
     "output_type": "error",
     "traceback": [
      "\u001b[0;36m  Cell \u001b[0;32mIn[4], line 10\u001b[0;36m\u001b[0m\n\u001b[0;31m    def dime_si_he_aprovado(nota)\u001b[0m\n\u001b[0m                                 ^\u001b[0m\n\u001b[0;31mSyntaxError\u001b[0m\u001b[0;31m:\u001b[0m expected ':'\n"
     ]
    }
   ],
   "source": [
    "def sumame(lista):\n",
    "    numero = 0\n",
    "    #print(numero)\n",
    "    for i in range(0,len(lista)):\n",
    "        #print(i)\n",
    "        numero = numero + lista[i]\n",
    "        #print(numero)\n",
    "    print(numero)\n",
    "    \n",
    "#def dime_si_he_aprovado(nota)\n",
    "    \n",
    "\n",
    "A = [2,3,4]\n",
    "B = sumame(A)\n",
    "print(B)"
   ]
  },
  {
   "cell_type": "code",
   "execution_count": 6,
   "metadata": {},
   "outputs": [
    {
     "ename": "ModuleNotFoundError",
     "evalue": "No module named 'Warm_up_07_external_functions'",
     "output_type": "error",
     "traceback": [
      "\u001b[0;31m---------------------------------------------------------------------------\u001b[0m",
      "\u001b[0;31mModuleNotFoundError\u001b[0m                       Traceback (most recent call last)",
      "Cell \u001b[0;32mIn[6], line 1\u001b[0m\n\u001b[0;32m----> 1\u001b[0m \u001b[38;5;28;01mimport\u001b[39;00m \u001b[38;5;21;01mWarm_up_07_external_functions\u001b[39;00m \u001b[38;5;28;01mas\u001b[39;00m \u001b[38;5;21;01mwu\u001b[39;00m\n\u001b[1;32m      3\u001b[0m \u001b[38;5;66;03m# Now you can use the functions defined in Warm_up_07_external_functions.ipynb\u001b[39;00m\n\u001b[1;32m      4\u001b[0m door \u001b[38;5;241m=\u001b[39m wu\u001b[38;5;241m.\u001b[39mget_door()\n",
      "\u001b[0;31mModuleNotFoundError\u001b[0m: No module named 'Warm_up_07_external_functions'"
     ]
    }
   ],
   "source": [
    "import Warm_up_07_external_functions as wu\n",
    "\n",
    "# Now you can use the functions defined in Warm_up_07_external_functions.ipynb\n",
    "door = wu.get_door()"
   ]
  },
  {
   "cell_type": "code",
   "execution_count": null,
   "metadata": {},
   "outputs": [],
   "source": []
  }
 ],
 "metadata": {
  "kernelspec": {
   "display_name": "MFA2-Warm_up",
   "language": "python",
   "name": "python3"
  },
  "language_info": {
   "codemirror_mode": {
    "name": "ipython",
    "version": 3
   },
   "file_extension": ".py",
   "mimetype": "text/x-python",
   "name": "python",
   "nbconvert_exporter": "python",
   "pygments_lexer": "ipython3",
   "version": "3.12.8"
  }
 },
 "nbformat": 4,
 "nbformat_minor": 2
}
