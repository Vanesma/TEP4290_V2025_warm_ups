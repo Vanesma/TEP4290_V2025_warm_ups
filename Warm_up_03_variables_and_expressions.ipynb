{
 "cells": [
  {
   "cell_type": "markdown",
   "metadata": {},
   "source": [
    "# Dynamic Modelling Course - TEP4290: Warm-up 3\n",
    "The point of this exercise is for you to practice what you have learned in the recommended videos. \n",
    "- PY4E: https://www.py4e.com/lessons/memory\n",
    "- Whirwind tour of python: https://jakevdp.github.io/WhirlwindTourOfPython/02-basic-python-syntax.html\n",
    "- Whirwind tour of python: https://jakevdp.github.io/WhirlwindTourOfPython/04-semantics-operators.html\n",
    "\n",
    "You will perform some basic operations that are designed to help you get comforable with Python. The exercise is not graded and will be discussed in the next exercises session in detail to clarify any doubts you may still have. \n",
    "\n",
    "Good luck!"
   ]
  },
  {
   "cell_type": "markdown",
   "metadata": {},
   "source": [
    "# Tasks\n",
    "\n",
    "Answer the questions or complete the tasks outlined in bold below, use the specific method described if applicable."
   ]
  },
  {
   "cell_type": "markdown",
   "metadata": {},
   "source": [
    "## Variables, expressions, and statements "
   ]
  },
  {
   "attachments": {},
   "cell_type": "markdown",
   "metadata": {},
   "source": [
    "**What is 7 to the power of 4?**"
   ]
  },
  {
   "cell_type": "code",
   "execution_count": 2,
   "metadata": {},
   "outputs": [
    {
     "name": "stdout",
     "output_type": "stream",
     "text": [
      "2401\n"
     ]
    }
   ],
   "source": [
    "j = 7**4\n",
    "print(j)"
   ]
  },
  {
   "cell_type": "markdown",
   "metadata": {},
   "source": [
    "** Given the variables:**\n",
    "\n",
    "    planet = \"Earth\"\n",
    "    diameter = 12742\n",
    "\n",
    "Print the following string: **\n",
    "\n",
    "    We live on planet Earth\n",
    "    Its diameter is 12742"
   ]
  },
  {
   "cell_type": "code",
   "execution_count": 3,
   "metadata": {},
   "outputs": [],
   "source": [
    "planet = 'Earth'\n",
    "diameter = '12742'"
   ]
  },
  {
   "cell_type": "code",
   "execution_count": 4,
   "metadata": {},
   "outputs": [
    {
     "name": "stdout",
     "output_type": "stream",
     "text": [
      "We live on planet Earth\n",
      "Its diameter is 12742\n"
     ]
    }
   ],
   "source": [
    "print(\"We live on planet \"+ str(planet))\n",
    "print(\"Its diameter is \"+ str(diameter))"
   ]
  },
  {
   "attachments": {},
   "cell_type": "markdown",
   "metadata": {},
   "source": [
    "**What type is the variable \"planet\"**"
   ]
  },
  {
   "cell_type": "code",
   "execution_count": 5,
   "metadata": {},
   "outputs": [
    {
     "data": {
      "text/plain": [
       "str"
      ]
     },
     "execution_count": 5,
     "metadata": {},
     "output_type": "execute_result"
    }
   ],
   "source": [
    "type(planet)"
   ]
  },
  {
   "attachments": {},
   "cell_type": "markdown",
   "metadata": {},
   "source": [
    "**Calculate the speed of a car that can travel 200 km in 1,4h. Assign the value to a variable with a mnemonic name and print your result.**"
   ]
  },
  {
   "cell_type": "code",
   "execution_count": 6,
   "metadata": {},
   "outputs": [
    {
     "data": {
      "text/plain": [
       "142.85714285714286"
      ]
     },
     "execution_count": 6,
     "metadata": {},
     "output_type": "execute_result"
    }
   ],
   "source": [
    "distance=200\n",
    "time=1.4\n",
    "speed=distance/time\n",
    "speed"
   ]
  },
  {
   "attachments": {},
   "cell_type": "markdown",
   "metadata": {},
   "source": [
    "**What type does this object have? Transform it an integer and assign it to a new variable. Print the new value and type of the variable.**"
   ]
  },
  {
   "cell_type": "code",
   "execution_count": 7,
   "metadata": {},
   "outputs": [
    {
     "name": "stdout",
     "output_type": "stream",
     "text": [
      "142\n",
      "The value is 142 and type of the variable is <class 'int'>\n"
     ]
    }
   ],
   "source": [
    "speed_integer=int(speed)\n",
    "print(speed_integer)\n",
    "print(\"The value is \"+str(speed_integer)+\" and type of the variable is \"+str(type(speed_integer)))"
   ]
  },
  {
   "attachments": {},
   "cell_type": "markdown",
   "metadata": {},
   "source": [
    "**Now that you changed the type, are the two variables equal? Discuss why or why not by using a comment after the calculation with the symbol #**"
   ]
  },
  {
   "cell_type": "code",
   "execution_count": 8,
   "metadata": {},
   "outputs": [
    {
     "name": "stdout",
     "output_type": "stream",
     "text": [
      "Are speed and speed_integer equal? False\n",
      "speed_integer: 142\n",
      "speed_kmh: 142.85714285714286\n"
     ]
    }
   ],
   "source": [
    "are_equal = speed == speed_integer\n",
    "print(\"Are speed and speed_integer equal?\", are_equal)\n",
    "# False because speed_kmh is a float, and speed_kmh_int is an integer.\n",
    "print(\"speed_integer:\", speed_integer)\n",
    "print(\"speed_kmh:\", speed)"
   ]
  },
  {
   "attachments": {},
   "cell_type": "markdown",
   "metadata": {},
   "source": [
    "**Check whether the rounded speed is smaller than the original value**"
   ]
  },
  {
   "cell_type": "code",
   "execution_count": 9,
   "metadata": {},
   "outputs": [
    {
     "name": "stdout",
     "output_type": "stream",
     "text": [
      "Is speed_integer value smaller than original speed value? True\n"
     ]
    }
   ],
   "source": [
    "is_smaller = speed_integer < speed\n",
    "print(\"Is speed_integer value smaller than original speed value?\", is_smaller)\n",
    "# True because int() truncates the decimal part."
   ]
  },
  {
   "attachments": {},
   "cell_type": "markdown",
   "metadata": {},
   "source": [
    "**Asume that the speed is now 1.2 times faster. Re-assign the value of the variable \"speed\" to the new value and print your results**"
   ]
  },
  {
   "cell_type": "code",
   "execution_count": 10,
   "metadata": {},
   "outputs": [
    {
     "name": "stdout",
     "output_type": "stream",
     "text": [
      "171.42857142857142\n"
     ]
    }
   ],
   "source": [
    "speed=speed*1.2\n",
    "print(speed)"
   ]
  },
  {
   "cell_type": "markdown",
   "metadata": {},
   "source": [
    "# Well done!"
   ]
  }
 ],
 "metadata": {
  "kernelspec": {
   "display_name": "MFA2-Warm_up",
   "language": "python",
   "name": "python3"
  },
  "language_info": {
   "codemirror_mode": {
    "name": "ipython",
    "version": 3
   },
   "file_extension": ".py",
   "mimetype": "text/x-python",
   "name": "python",
   "nbconvert_exporter": "python",
   "pygments_lexer": "ipython3",
   "version": "3.12.8"
  },
  "orig_nbformat": 2
 },
 "nbformat": 4,
 "nbformat_minor": 2
}
