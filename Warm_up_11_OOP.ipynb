{
 "cells": [
  {
   "cell_type": "markdown",
   "metadata": {},
   "source": [
    "# Dynamic Modelling Course - TEP4290: Warm-up 11\n",
    "The point of this exercise is for you to get familiar with the terminology and logic of objects in python and for advanced students to get some first hands-on practice with classes. You can use the following resources:\n",
    "\n",
    "- the python for everyone classes (video 1 and 2 for the mandatory part, 3 and 4 optionally) https://www.py4e.com/lessons/Objects\n",
    "- notebook for advanced content: https://www.nbshare.io/notebook/986482930/Object-Oriented-Programming-In-Python/#Python-Classes\n",
    "\n",
    "You will demonstrate some understanding of objects in teh mandatory part and to some light coding in the optional part of the assignment. The exercise is pass/fail (only the mandatory part is considered).\n",
    "\n",
    "Good luck!"
   ]
  },
  {
   "cell_type": "markdown",
   "metadata": {},
   "source": [
    "## Quick summary"
   ]
  },
  {
   "cell_type": "markdown",
   "metadata": {},
   "source": [
    "Fundamentally almost everything you use in Python has to do with objects - it is an object oriented language! This opens up exiting options like using built in functions for objects that you already are familiar with, but we also want to understand how an object is fundamentally built in Python."
   ]
  },
  {
   "cell_type": "markdown",
   "metadata": {},
   "source": [
    "### Nomenclature\n",
    "You should understand the following words and underlying concepts:\n",
    " - class: a template for objects of a certain type\n",
    " - method: function for a object of a certain type\n",
    " - attribute: data (object) that belongs to an object\n",
    " - instance: an object of a class\n",
    " \n",
    " advanced:\n",
    " - constructor: the function that takes care of making an instance of that class\n",
    " - inheritance: the concept of taking the methods and attributes of a parent class into the child class"
   ]
  },
  {
   "cell_type": "markdown",
   "metadata": {},
   "source": [
    "### Anatomy of class definitions"
   ]
  },
  {
   "cell_type": "code",
   "execution_count": 1,
   "metadata": {},
   "outputs": [],
   "source": [
    "#fundamental structure:\n",
    "class ClassName: #definition. Class names _should_ start with capital letters\n",
    "    class_attribute = 'attribute' # every instance will have this attribute\n",
    "    \n",
    "    def __init__(self, init_argument): #the constructor of the class, is called by typing ClassName()\n",
    "        self.init_argument = init_argument # self just points at this object, so this makes a second attribute\n",
    "    def method(self, argument): #defining a method for this class that does something with some input\n",
    "        print('Do some stuff with', argument)"
   ]
  },
  {
   "cell_type": "markdown",
   "metadata": {},
   "source": [
    "A simple example"
   ]
  },
  {
   "cell_type": "code",
   "execution_count": 2,
   "metadata": {},
   "outputs": [
    {
     "name": "stdout",
     "output_type": "stream",
     "text": [
      "Wuff! Wuff!\n",
      "The owner of Bo is Obama\n",
      "The owner of Fluffy is unknown\n"
     ]
    }
   ],
   "source": [
    "class Dog:\n",
    "    '''Simple example class.'''\n",
    "    def __init__(self, name, owner):\n",
    "        self.name = name\n",
    "        self.owner = owner\n",
    "    \n",
    "    def bark(self):\n",
    "        print('Wuff! Wuff!')\n",
    "    \n",
    "    def print_owner(self):\n",
    "        print('The owner of', self.name,'is', self.owner)\n",
    "\n",
    "bo = Dog('Bo', 'Obama')\n",
    "bo.bark()\n",
    "bo.print_owner()\n",
    "\n",
    "fluffy = Dog('Fluffy', 'unknown')\n",
    "fluffy.print_owner()\n"
   ]
  },
  {
   "cell_type": "markdown",
   "metadata": {},
   "source": [
    "# Mandatory Tasks\n",
    "Complete the tasks outlined below and either answer the questions or complete the code to achieve the same output as you find in the original file."
   ]
  },
  {
   "cell_type": "markdown",
   "metadata": {},
   "source": [
    "### Methods of objects you know\n",
    "Here we want you to look up the methods that objects that you already used have!"
   ]
  },
  {
   "cell_type": "code",
   "execution_count": 3,
   "metadata": {
    "scrolled": true
   },
   "outputs": [
    {
     "name": "stdout",
     "output_type": "stream",
     "text": [
      "otto\n",
      "['__add__', '__class__', '__contains__', '__delattr__', '__dir__', '__doc__', '__eq__', '__format__', '__ge__', '__getattribute__', '__getitem__', '__getnewargs__', '__getstate__', '__gt__', '__hash__', '__init__', '__init_subclass__', '__iter__', '__le__', '__len__', '__lt__', '__mod__', '__mul__', '__ne__', '__new__', '__reduce__', '__reduce_ex__', '__repr__', '__rmod__', '__rmul__', '__setattr__', '__sizeof__', '__str__', '__subclasshook__', 'capitalize', 'casefold', 'center', 'count', 'encode', 'endswith', 'expandtabs', 'find', 'format', 'format_map', 'index', 'isalnum', 'isalpha', 'isascii', 'isdecimal', 'isdigit', 'isidentifier', 'islower', 'isnumeric', 'isprintable', 'isspace', 'istitle', 'isupper', 'join', 'ljust', 'lower', 'lstrip', 'maketrans', 'partition', 'removeprefix', 'removesuffix', 'replace', 'rfind', 'rindex', 'rjust', 'rpartition', 'rsplit', 'rstrip', 'split', 'splitlines', 'startswith', 'strip', 'swapcase', 'title', 'translate', 'upper', 'zfill']\n"
     ]
    }
   ],
   "source": [
    "name = 'otto'\n",
    "print(name)\n",
    "\n",
    "print(dir(name))"
   ]
  },
  {
   "cell_type": "markdown",
   "metadata": {},
   "source": [
    "Use the first public method capitalize:"
   ]
  },
  {
   "cell_type": "code",
   "execution_count": 4,
   "metadata": {
    "scrolled": true
   },
   "outputs": [
    {
     "data": {
      "text/plain": [
       "'Otto'"
      ]
     },
     "execution_count": 4,
     "metadata": {},
     "output_type": "execute_result"
    }
   ],
   "source": [
    "name.capitalize()"
   ]
  },
  {
   "cell_type": "markdown",
   "metadata": {},
   "source": [
    "### What is what?\n",
    "In this task you will categorize what parts of the example code do."
   ]
  },
  {
   "cell_type": "markdown",
   "metadata": {},
   "source": [
    "#### Provided example code\n",
    "You don't need to do anything here"
   ]
  },
  {
   "cell_type": "code",
   "execution_count": 5,
   "metadata": {},
   "outputs": [
    {
     "name": "stdout",
     "output_type": "stream",
     "text": [
      "Photosynthesis.\n"
     ]
    }
   ],
   "source": [
    "class Answer:\n",
    "    punctuation_mark = '.'\n",
    "    \n",
    "    def __init__(self, answer):\n",
    "        self.content = answer\n",
    "    \n",
    "    def print_content(self):\n",
    "        print(self.content + self.punctuation_mark)\n",
    "\n",
    "sentence1 = Answer('Photosynthesis')\n",
    "sentence1.print_content()\n",
    "record = sentence1.content"
   ]
  },
  {
   "cell_type": "code",
   "execution_count": 6,
   "metadata": {},
   "outputs": [
    {
     "name": "stdout",
     "output_type": "stream",
     "text": [
      "2\n",
      "is a prime number\n"
     ]
    }
   ],
   "source": [
    "#Practice:\n",
    "class valor:\n",
    "    prime='is a prime number'\n",
    "\n",
    "    def __init__(self, value):\n",
    "        self.numero=value\n",
    "\n",
    "    def add_one(self):\n",
    "        self.numero=self.numero+1\n",
    "    \n",
    "    def substract_1(self):\n",
    "        self.numero=self.numero-1\n",
    "    \n",
    "number=valor(3)\n",
    "number.substract_1()\n",
    "print(number.numero)\n",
    "print(number.prime)"
   ]
  },
  {
   "cell_type": "markdown",
   "metadata": {},
   "source": [
    "#### In one line, what role(s) do the following expressions take? What can you call them when thinking about what you learned?\n",
    "- line 1, \"Answer\": \n",
    "    - it is the name of the class\n",
    "- line 2, \" punctuation_mark = '.' \" : \n",
    "    - it is a class atribute \n",
    "- line 2, \" '.' \": \n",
    "    - it is a string (dot) assigned to the class attribute punctuation_mark.\n",
    "- line 4-5: \"def __init__(self, answer):        self.content = answer \":\n",
    "    - line 4 defines the constructor method for the class. Line 5 initializes the content instance attribute with the value of the answer parameter.\n",
    "- line 10: \"sentence1\": \n",
    "    - it is an instance (object) of the Answer class\n",
    "- line 11: \"sentence1.print_content()\": \n",
    "    - it calls the print_content method of the sentence1 instance, which prints the value of its content attribute followed by the class attribute punctuation_mark."
   ]
  },
  {
   "cell_type": "markdown",
   "metadata": {},
   "source": [
    "# Optional tasks\n",
    "You really don't have to do this, but if you didn't fell challenged so far, knock yourself out."
   ]
  },
  {
   "cell_type": "markdown",
   "metadata": {},
   "source": [
    "## Make your own instances\n",
    "We will again play with the Dog class here, and also introduce a Owner class. \n",
    "\n",
    "You will create some instances of both classes and use their methods."
   ]
  },
  {
   "cell_type": "code",
   "execution_count": 39,
   "metadata": {},
   "outputs": [],
   "source": [
    "class Dog:\n",
    "    '''Simple example dog class. The dog has an owner and can bark.'''\n",
    "    def __init__(self, name):\n",
    "        self.name = name\n",
    "        self.owner = Owner('unknown')\n",
    "    \n",
    "    def bark(self):\n",
    "        print('Wuff! Wuff!')\n",
    "    \n",
    "    def print_owner(self):\n",
    "        print('The owner of', self.name,'is', self.owner.name)\n",
    "\n",
    "        \n",
    "class Owner:\n",
    "    '''\n",
    "    Simple example owner class that stores the dogs of an owner.\n",
    "    \n",
    "    Attributes:\n",
    "    - name\n",
    "    - dogs: list of all dogs that the owner has (or had!)\n",
    "    \n",
    "    Methods: \n",
    "    -assign_dog(dog): adds the dog to the list of dogs and changes the owner of the dog\n",
    "    - print_dogs\n",
    "    '''\n",
    "    def __init__(self, name):\n",
    "        self.name = name\n",
    "        self.dogs = [] #in the beginning the owner has no dogs\n",
    "    def assign_dog(self, dog:Dog):\n",
    "        if dog in self.dogs:\n",
    "            pass # Do nothing\n",
    "        else:\n",
    "            self.dogs.append(dog) # adding the dog to the owner's list of dogs\n",
    "            dog.owner = self # sets the name of the owner for the dog\n",
    "        \n",
    "    def print_dogs(self):\n",
    "        print(self.name,'owns the following dogs:')\n",
    "        for dog in self.dogs:\n",
    "            print(dog.name)\n",
    "        print('\\n')"
   ]
  },
  {
   "cell_type": "markdown",
   "metadata": {},
   "source": [
    "You will now initialize 2 dogs, Fluffy and Huffy and let both bark and print their owners."
   ]
  },
  {
   "cell_type": "code",
   "execution_count": 8,
   "metadata": {},
   "outputs": [
    {
     "name": "stdout",
     "output_type": "stream",
     "text": [
      "Wuff! Wuff!\n",
      "Wuff! Wuff!\n",
      "The owner of Fluffy is unknown\n",
      "The owner of Huffy is unknown\n"
     ]
    }
   ],
   "source": [
    "dog1=Dog('Fluffy')\n",
    "dog1.bark()\n",
    "\n",
    "dog2=Dog('Huffy')\n",
    "dog2.bark()\n",
    "\n",
    "dog1.print_owner()\n",
    "dog2.print_owner()\n"
   ]
  },
  {
   "cell_type": "markdown",
   "metadata": {},
   "source": [
    "Fluffy and Huffy of course have owners: Matt is the owner of Fluffy and Phil the owner of Huffy.\n",
    "\n",
    "Initialize Matt and Phil, assign their dogs and print their list of dogs, as well as the ownership of both dogs!"
   ]
  },
  {
   "cell_type": "code",
   "execution_count": 9,
   "metadata": {},
   "outputs": [
    {
     "name": "stdout",
     "output_type": "stream",
     "text": [
      "Matt owns the following dogs:\n",
      "Fluffy\n",
      "\n",
      "\n",
      "Phil owns the following dogs:\n",
      "Huffy\n",
      "\n",
      "\n",
      "The owner of Fluffy is Matt\n",
      "The owner of Huffy is Phil\n"
     ]
    }
   ],
   "source": [
    "Fluffy_owner=Owner('Matt')\n",
    "Fluffy_owner.assign_dog(dog1)\n",
    "Fluffy_owner.print_dogs()\n",
    "\n",
    "Huffy_owner=Owner('Phil')\n",
    "Huffy_owner.assign_dog(dog2)\n",
    "Huffy_owner.print_dogs()\n",
    "\n",
    "dog1.print_owner()\n",
    "dog2.print_owner()"
   ]
  },
  {
   "cell_type": "markdown",
   "metadata": {},
   "source": [
    "Phil dies, and Matt takes care of Huffy. Update Matts dog and show what changed."
   ]
  },
  {
   "cell_type": "code",
   "execution_count": 10,
   "metadata": {},
   "outputs": [
    {
     "name": "stdout",
     "output_type": "stream",
     "text": [
      "The owner of Huffy is Matt\n",
      "[<__main__.Dog object at 0x105c5f770>, <__main__.Dog object at 0x105c8daf0>]\n"
     ]
    }
   ],
   "source": [
    "Fluffy_owner.assign_dog(dog2)\n",
    "dog2.print_owner()\n",
    "print(Fluffy_owner.dogs)"
   ]
  },
  {
   "cell_type": "markdown",
   "metadata": {},
   "source": [
    "### Inheritance: make a cat class and CatOwner\n",
    "Now you finally will do some own coding! Make a cat class that works just like the dog class, add the meow method and make two cats, Grumpy and Nyan."
   ]
  },
  {
   "cell_type": "code",
   "execution_count": 50,
   "metadata": {},
   "outputs": [],
   "source": [
    "class Animal:\n",
    "    '''Base class for animals with an owner.'''\n",
    "    def __init__(self, name):\n",
    "        self.name = name\n",
    "        self.owner = Owner('unknown')\n",
    "\n",
    "    def print_owner(self):\n",
    "        print('The owner of', self.name, 'is', self.owner.name)\n",
    "\n",
    "class Dog(Animal):\n",
    "    '''Dog class inheriting from Animal.'''\n",
    "    def bark(self):\n",
    "        print('Wuff! Wuff!')\n",
    "\n",
    "class Cat(Animal):\n",
    "    '''Cat class inheriting from Animal.'''\n",
    "    def meow(self):\n",
    "        print('Meow! Meow!')\n",
    "    def bark(self):\n",
    "        print('Wuff! Wuff!')\n",
    "\n",
    "class Owner:\n",
    "    '''\n",
    "    Simple example owner class that stores the dogs of an owner.\n",
    "    \n",
    "    Attributes:\n",
    "    - name\n",
    "    - dogs: list of all dogs that the owner has (or had!)\n",
    "    \n",
    "    Methods: \n",
    "    -assign_dog(dog): adds the dog to the list of dogs and changes the owner of the dog\n",
    "    - print_dogs\n",
    "    '''\n",
    "    def __init__(self, name):\n",
    "        self.name = name\n",
    "        self.pets= [] #in the beginning the owner has no pets\n",
    "    def assign_pet(self, pet:Dog or Cat):\n",
    "        if pet in self.pets:\n",
    "            pass # Do nothing\n",
    "        else:\n",
    "            self.pets.append(pet) # adding the dog to the owner's list of pets\n",
    "            pet.owner = self # sets the name of the owner for the pet\n",
    "        \n",
    "    def print_pets(self):\n",
    "        print(self.name,'owns the following pets:')\n",
    "        for pet in self.pets:\n",
    "            print(' ',pet.name)\n",
    "        print('\\n')\n",
    "\n",
    "Grumpy = Cat('Grumpy')\n",
    "Nyan = Cat('Nyan')\n"
   ]
  },
  {
   "cell_type": "markdown",
   "metadata": {},
   "source": [
    "You made a cat from a dog, so your cats are special: they can meow _and_ bark!"
   ]
  },
  {
   "cell_type": "code",
   "execution_count": 12,
   "metadata": {},
   "outputs": [
    {
     "name": "stdout",
     "output_type": "stream",
     "text": [
      "Meow! Meow!\n",
      "Wuff! Wuff!\n"
     ]
    }
   ],
   "source": [
    "Grumpy.meow()\n",
    "Grumpy.bark()"
   ]
  },
  {
   "cell_type": "markdown",
   "metadata": {},
   "source": [
    "#### Tryto add the cats to Phil and Matt and see what happens!"
   ]
  },
  {
   "cell_type": "code",
   "execution_count": null,
   "metadata": {},
   "outputs": [
    {
     "name": "stdout",
     "output_type": "stream",
     "text": [
      "Matt owns the following pets:\n",
      "\n",
      "\n",
      "Phil owns the following pets:\n",
      "  Huffy\n",
      "  Nyan\n",
      "\n",
      "\n"
     ]
    }
   ],
   "source": [
    "Owner1 = Owner('Matt')\n",
    "Owner2 = Owner('Phil')\n",
    "\n",
    "Owner1.assign_pet(dog1)\n",
    "Owner1.assign_pet(Grumpy)\n",
    "\n",
    "Owner2.assign_pet(dog2)\n",
    "Owner2.assign_pet(Nyan)\n",
    "Owner2.assign_pet(Nyan)\n",
    "\n",
    "\n",
    "Owner1.print_pets()\n",
    "Owner2.print_pets()"
   ]
  },
  {
   "cell_type": "markdown",
   "metadata": {},
   "source": [
    "# Done! Done?\n",
    "If you made it this far: kudos!\n",
    "\n",
    "It might be fun for you to develop some more small objects that interact with each other - you can do that here, but it is up to you what you do! Just think about something you want to represent in your code (a school with students and classes, blackjack or a function that calculates areas of (regular) shapes), set up a structure for your code and start - maybe even with some support from code you found online."
   ]
  }
 ],
 "metadata": {
  "kernelspec": {
   "display_name": "MFA2-Warm_up",
   "language": "python",
   "name": "python3"
  },
  "language_info": {
   "codemirror_mode": {
    "name": "ipython",
    "version": 3
   },
   "file_extension": ".py",
   "mimetype": "text/x-python",
   "name": "python",
   "nbconvert_exporter": "python",
   "pygments_lexer": "ipython3",
   "version": "3.12.8"
  }
 },
 "nbformat": 4,
 "nbformat_minor": 4
}
